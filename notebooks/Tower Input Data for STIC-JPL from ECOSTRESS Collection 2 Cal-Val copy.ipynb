{
 "cells": [
  {
   "cell_type": "code",
   "execution_count": null,
   "id": "d1471213",
   "metadata": {},
   "outputs": [],
   "source": [
    "import os\n",
    "import numpy as np\n",
    "import pandas as pd\n",
    "import geopandas as gpd\n",
    "from STIC_JPL.process_STIC_table import process_STIC_table"
   ]
  },
  {
   "cell_type": "code",
   "execution_count": null,
   "id": "3f7e562f",
   "metadata": {},
   "outputs": [],
   "source": [
    "# Load cal/val dataset (replace with actual loading function or file path as needed)\n",
    "\n",
    "def load_calval_table():\n",
    "    # Example: replace with actual loading logic\n",
    "    # return pd.read_csv('path/to/calval.csv')\n",
    "    raise NotImplementedError('Replace with actual cal/val data loading')\n",
    "\n",
    "model_inputs_gdf = load_calval_table()\n",
    "model_inputs_gdf.head()"
   ]
  },
  {
   "cell_type": "code",
   "execution_count": null,
   "id": "c496d6e1",
   "metadata": {},
   "outputs": [],
   "source": [
    "# Check required columns for STIC-JPL\n",
    "required_columns = [\n",
    "    'hour_of_day', 'lon', 'ST_C', 'EmisWB', 'NDVI', 'albedo',\n",
    "    'Ta_C', 'RH', 'Rn', 'Rg'  # Rg is optional, G will be calculated if missing\n",
    "]\n",
    "missing = [col for col in required_columns if col not in model_inputs_gdf.columns]\n",
    "print('Missing columns:', missing)"
   ]
  },
  {
   "cell_type": "code",
   "execution_count": null,
   "id": "e2697ff5",
   "metadata": {},
   "outputs": [],
   "source": [
    "# Example: Unit conversion or renaming if needed\n",
    "# model_inputs_gdf['ST_C'] = model_inputs_gdf['LST_K'] - 273.15  # if LST_K is present\n",
    "# model_inputs_gdf.rename(columns={'some_col': 'albedo'}, inplace=True)\n",
    "# Add any other conversions here"
   ]
  },
  {
   "cell_type": "code",
   "execution_count": null,
   "id": "b71a3fd2",
   "metadata": {},
   "outputs": [],
   "source": [
    "# Save input table for STIC-JPL\n",
    "input_table_filename = 'STICJPL_calval_inputs.csv'\n",
    "model_inputs_gdf.to_csv(input_table_filename, index=False)\n",
    "print(f'Input table saved to {input_table_filename}')"
   ]
  },
  {
   "cell_type": "code",
   "execution_count": null,
   "id": "098899eb",
   "metadata": {},
   "outputs": [],
   "source": [
    "# Run STIC-JPL model\n",
    "results = process_STIC_table(model_inputs_gdf)\n",
    "results.head()"
   ]
  },
  {
   "cell_type": "code",
   "execution_count": null,
   "id": "95510344",
   "metadata": {},
   "outputs": [],
   "source": [
    "# Save output table\n",
    "output_table_filename = 'STICJPL_calval_outputs.csv'\n",
    "results.to_csv(output_table_filename, index=False)\n",
    "print(f'Output table saved to {output_table_filename}')"
   ]
  },
  {
   "cell_type": "code",
   "execution_count": null,
   "id": "9231f9fb",
   "metadata": {},
   "outputs": [],
   "source": [
    "# STIC-JPL Cal/Val Input Preparation\n",
    "\n",
    "This notebook prepares an input table for the STIC-JPL model using only the cal/val dataset. All required columns are extracted or converted as needed."
   ]
  },
  {
   "cell_type": "code",
   "execution_count": null,
   "id": "ced87d4a",
   "metadata": {},
   "outputs": [],
   "source": [
    "# field_capacity = load_field_capacity(geometry=tower_points)\n",
    "# model_inputs_gdf[\"field_capacity\"] = field_capacity\n",
    "# field_capacity"
   ]
  },
  {
   "cell_type": "code",
   "execution_count": null,
   "id": "b962ec3c",
   "metadata": {},
   "outputs": [],
   "source": [
    "# wilting_point = load_wilting_point(geometry=tower_points)\n",
    "# model_inputs_gdf[\"wilting_point\"] = wilting_point\n",
    "# wilting_point"
   ]
  },
  {
   "cell_type": "code",
   "execution_count": null,
   "id": "5a9383a4",
   "metadata": {},
   "outputs": [],
   "source": [
    "# merge static inputs with model inputs, ignoring duplicate columns from static_inputs_df\n",
    "cols_to_use = [col for col in static_inputs_df.columns if col not in model_inputs_gdf.columns or col == 'ID']\n",
    "model_inputs_gdf = model_inputs_gdf.merge(static_inputs_df[cols_to_use], on=\"ID\", how=\"left\")\n",
    "model_inputs_gdf"
   ]
  },
  {
   "cell_type": "code",
   "execution_count": null,
   "id": "458842e6",
   "metadata": {},
   "outputs": [],
   "source": [
    "model_inputs_gdf.keys()"
   ]
  },
  {
   "cell_type": "code",
   "execution_count": null,
   "id": "a46ee7bc",
   "metadata": {},
   "outputs": [],
   "source": [
    "model_inputs_gdf.albedo"
   ]
  },
  {
   "cell_type": "code",
   "execution_count": null,
   "id": "10671465",
   "metadata": {},
   "outputs": [],
   "source": [
    "results = process_PTJPLSM_table(model_inputs_gdf)\n",
    "results"
   ]
  },
  {
   "cell_type": "code",
   "execution_count": null,
   "id": "1fa80743",
   "metadata": {},
   "outputs": [],
   "source": [
    "model_inputs_gdf.to_csv(generated_input_table_filename, index=False)"
   ]
  },
  {
   "cell_type": "code",
   "execution_count": null,
   "id": "52d527e1",
   "metadata": {},
   "outputs": [],
   "source": [
    "results.to_csv(generated_output_table_filename, index=False)"
   ]
  },
  {
   "cell_type": "code",
   "execution_count": null,
   "id": "dc0329d5",
   "metadata": {},
   "outputs": [],
   "source": []
  }
 ],
 "metadata": {
  "kernelspec": {
   "display_name": "Python 3",
   "language": "python",
   "name": "python3"
  },
  "language_info": {
   "codemirror_mode": {
    "name": "ipython",
    "version": 3
   },
   "file_extension": ".py",
   "mimetype": "text/x-python",
   "name": "python",
   "nbconvert_exporter": "python",
   "pygments_lexer": "ipython3",
   "version": "3.12.7"
  }
 },
 "nbformat": 4,
 "nbformat_minor": 5
}
